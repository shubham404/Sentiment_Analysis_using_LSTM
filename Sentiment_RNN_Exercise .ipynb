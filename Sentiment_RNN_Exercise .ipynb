{
 "cells": [
  {
   "cell_type": "markdown",
   "metadata": {},
   "source": [
    "# Sentiment Analysis with an RNN\n",
    "\n",
    "In this notebook, you'll implement a recurrent neural network that performs sentiment analysis. \n",
    ">Using an RNN rather than a strictly feedforward network is more accurate since we can include information about the *sequence* of words. \n",
    "\n",
    "Here we'll use a dataset of movie reviews, accompanied by sentiment labels: positive or negative.\n",
    "\n",
    "<img src=\"assets/reviews_ex.png\" width=40%>\n",
    "\n",
    "### Network Architecture\n",
    "\n",
    "The architecture for this network is shown below.\n",
    "\n",
    "<img src=\"assets/network_diagram.png\" width=40%>\n",
    "\n",
    ">**First, we'll pass in words to an embedding layer.** We need an embedding layer because we have tens of thousands of words, so we'll need a more efficient representation for our input data than one-hot encoded vectors. You should have seen this before from the Word2Vec lesson. You can actually train an embedding with the Skip-gram Word2Vec model and use those embeddings as input, here. However, it's good enough to just have an embedding layer and let the network learn a different embedding table on its own. *In this case, the embedding layer is for dimensionality reduction, rather than for learning semantic representations.*\n",
    "\n",
    ">**After input words are passed to an embedding layer, the new embeddings will be passed to LSTM cells.** The LSTM cells will add *recurrent* connections to the network and give us the ability to include information about the *sequence* of words in the movie review data. \n",
    "\n",
    ">**Finally, the LSTM outputs will go to a sigmoid output layer.** We're using a sigmoid function because positive and negative = 1 and 0, respectively, and a sigmoid will output predicted, sentiment values between 0-1. \n",
    "\n",
    "We don't care about the sigmoid outputs except for the **very last one**; we can ignore the rest. We'll calculate the loss by comparing the output at the last time step and the training label (pos or neg)."
   ]
  },
  {
   "cell_type": "markdown",
   "metadata": {},
   "source": [
    "---\n",
    "### Load in and visualize the data"
   ]
  },
  {
   "cell_type": "code",
   "execution_count": 1,
   "metadata": {},
   "outputs": [],
   "source": [
    "import numpy as np\n",
    "\n",
    "# read data from text files\n",
    "with open('data/data2/reviews.txt', 'r') as f:\n",
    "    reviews = f.read()\n",
    "    \n",
    "#with open('data/labels.txt', 'r') as f:\n",
    "#    labels = f.read()"
   ]
  },
  {
   "cell_type": "code",
   "execution_count": 2,
   "metadata": {},
   "outputs": [
    {
     "name": "stdout",
     "output_type": "stream",
     "text": [
      "So there is no way for me to plug it in here in the US unless I go by a converter.\t0\n",
      "Good case, Excellent value.\t1\n",
      "Great for the jawbone.\t1\n",
      "Tied to charger for conversations lasting more than 45 minutes.MAJOR PROBLEMS!!\t0\n",
      "The mic is great.\t1\n",
      "I have to jiggle the plug to get it to line up right to get decent volume.\t0\n",
      "If you have several dozen or several hundred contacts, then imagine the fun of sending each of them one by one.\t0\n",
      "If you are Razr owner...you must have this!\t1\n",
      "Needless to say, I wasted my money.\t0\n",
      "What a waste of money and time!.\t0\n",
      "And the sound quality is great.\t1\n",
      "He was very impressed when going from the original battery to the extended battery.\t1\n",
      "If the two were seperated by a mere 5+ ft I started to notice excessive static and garbled sound from the headset.\t0\n",
      "Very good quality though\t1\n",
      "The design is very odd, as the ear \"clip\" is not very comfortable at all.\t0\n",
      "Highly recommend for any one who has a blue tooth phone.\t1\n",
      "I advise EVERYONE DO NOT BE FOOLED!\t0\n",
      "So Far So Good!.\t1\n",
      "Works great!.\t1\n",
      "It clicks into place in a way that makes you wonder how long that mechanism would last.\t0\n",
      "I went on Motorola's website and followed all directions, but could not get it to pair again.\t0\n",
      "I bought this to use with my Kindle Fire and absolutely loved it!\t1\n",
      "The commercials are the most misleading.\t0\n",
      "I have yet to run this new battery below two bars and that's three days without charging.\t1\n",
      "I bought it for my mother and she had a problem with the battery.\t0\n",
      "Great Pocket PC / phone combination.\t1\n",
      "I've owned this phone for 7 months now and can say that it's the best mobile phone I've had.\t1\n",
      "I didn't think that the instructions provided were helpful to me.\t0\n",
      "People couldnt hear me talk and I had to pull out the earphone and talk on the phone.\t0\n",
      "Doesn't hold charge.\t0\n",
      "This is a simple little phone to use, but the breakage is unacceptible.\t0\n",
      "This product is ideal for people like me whose ears are very sensitive.\t1\n",
      "It is unusable in a moving car at freeway speed.\t0\n",
      "I have \n",
      "\n"
     ]
    }
   ],
   "source": [
    "print(reviews[:2000])\n",
    "print()\n",
    "\n",
    "#please note that '\\n' is also conunted as 1 char, therofre in output we get total 18 charcaters and 2 next lines.\n",
    "#print(labels[:20])"
   ]
  },
  {
   "cell_type": "markdown",
   "metadata": {},
   "source": [
    "## Data pre-processing\n",
    "\n",
    "The first step when building a neural network model is getting your data into the proper form to feed into the network. Since we're using embedding layers, we'll need to encode each word with an integer. We'll also want to clean it up a bit.\n",
    "\n",
    "You can see an example of the reviews data above. Here are the processing steps, we'll want to take:\n",
    ">* We'll want to get rid of periods and extraneous punctuation.\n",
    "* Also, you might notice that the reviews are delimited with newline characters `\\n`. To deal with those, I'm going to split the text into each review using `\\n` as the delimiter. \n",
    "* Then I can combined all the reviews back together into one big string.\n",
    "\n",
    "First, let's remove all punctuation. Then get all the text without the newlines and split it into individual words."
   ]
  },
  {
   "cell_type": "code",
   "execution_count": 3,
   "metadata": {},
   "outputs": [
    {
     "name": "stdout",
     "output_type": "stream",
     "text": [
      "!\"#$%&'()*+,-./:;<=>?@[\\]^_`{|}~\n",
      "\n",
      "display 1000 charcaters ater removingpuctuation and display them \n",
      "\n",
      "so there is no way for me to plug it in here in the us unless i go by a converter\t0\n",
      "good case excellent value\t1\n",
      "great for the jawbone\t1\n",
      "tied to charger for conversations lasting more than 45 minutesmajor problems\t0\n",
      "the mic is great\t1\n",
      "i have to jiggle the plug to get it to line up right to get decent volume\t0\n",
      "if you have several dozen or several hundred contacts then imagine the fun of sending each of them one by one\t0\n",
      "if you are razr owneryou must have this\t1\n",
      "needless to say i wasted my money\t0\n",
      "what a waste of money and time\t0\n",
      "and the sound quality is great\t1\n",
      "he was very impressed when going from the original battery to the extended battery\t1\n",
      "if the two were seperated by a mere 5 ft i started to notice excessive static and garbled sound from the headset\t0\n",
      "very good quality though\t1\n",
      "the design is very odd as the ear clip is not very comfortable at all\t0\n",
      "highly recommend for any one who has a blue tooth phone\t1\n",
      "i advise everyone do not be fooled\t0\n",
      "so far so good\t1\n",
      "works great\t1\n",
      "it clicks\n",
      "<class 'str'>\n"
     ]
    }
   ],
   "source": [
    "from string import punctuation\n",
    "\n",
    "print(punctuation)\n",
    "\n",
    "# get rid of punctuation\n",
    "reviews = reviews.lower() # lowercase, standardize\n",
    "\n",
    "#he join() method is a string method and returns a string in which the elements of \n",
    "#sequence have been joined by str separator.\n",
    "\n",
    "all_text = ''.join([c for c in reviews if c not in punctuation])\n",
    "\n",
    "print('\\ndisplay 1000 charcaters ater removingpuctuation and display them \\n')\n",
    "print(all_text[:1000])\n",
    "\n",
    "print(type(all_text))"
   ]
  },
  {
   "cell_type": "code",
   "execution_count": 4,
   "metadata": {},
   "outputs": [
    {
     "name": "stdout",
     "output_type": "stream",
     "text": [
      "['so there is no way for me to plug it in here in the us unless i go by a converter\\t0', 'good case excellent value\\t1', 'great for the jawbone\\t1']\n",
      "Total number of reviews:  3001\n",
      "===============================================================\n",
      "so there i\n",
      "===============================================================\n",
      "['so there is no way for me to plug it in here in the us unless i go by a converter', '0', 'good case excellent value', '1', 'great for the jawbone', '1', 'tied to charger for conversations lasting more than 45 minutesmajor problems', '0', 'the mic is great', '1']\n",
      "['i think food should have flavor and texture and both were lacking', '0', 'appetite instantly gone', '0', 'overall i was not impressed and would not go back', '0', 'the whole experience was underwhelming and i think well just go to ninja sushi next time', '0', 'then as if i hadnt wasted enough of my life there they poured salt in the wound by drawing out the time it took to bring the check', '0']\n",
      "===============================================================\n",
      "Total number of reviews : 3000\n",
      "Total number of labels : 3000\n",
      "===============================================================\n",
      "['so there is no way for me to plug it in here in the us unless i go by a converter', 'good case excellent value', 'great for the jawbone', 'tied to charger for conversations lasting more than 45 minutesmajor problems', 'the mic is great', 'i have to jiggle the plug to get it to line up right to get decent volume', 'if you have several dozen or several hundred contacts then imagine the fun of sending each of them one by one', 'if you are razr owneryou must have this', 'needless to say i wasted my money', 'what a waste of money and time']\n",
      "['0', '1', '1', '0', '1', '0', '0', '1', '0', '0']\n"
     ]
    }
   ],
   "source": [
    "# split by new lines and spaces\n",
    "all_text = all_text.split('\\n')\n",
    "print(all_text[:3])\n",
    "print('Total number of reviews: ',len(all_text))\n",
    "print('===============================================================')\n",
    "\n",
    "all_text='\\t'.join(all_text)\n",
    "print(all_text[:10])\n",
    "\n",
    "\n",
    "print('===============================================================')\n",
    "all_text=all_text.split('\\t')\n",
    "all_text=all_text[:-1]\n",
    "print(all_text[:10])\n",
    "print(all_text[-10:])\n",
    "\n",
    "print('===============================================================')\n",
    "\n",
    "#print('Totla number of reviews :',len(reviews_split)/2)\n",
    "\n",
    "reviews_split=all_text[::2]\n",
    "labels_split=all_text[1::2]\n",
    "print('Total number of reviews :',len(reviews_split))\n",
    "print('Total number of labels :',len(labels_split))\n",
    "\n",
    "print('===============================================================')\n",
    "\n",
    "print(reviews_split[:10])\n",
    "print(labels_split[:10])\n",
    "\n"
   ]
  },
  {
   "cell_type": "code",
   "execution_count": 5,
   "metadata": {},
   "outputs": [
    {
     "name": "stdout",
     "output_type": "stream",
     "text": [
      "35338\n"
     ]
    }
   ],
   "source": [
    "# create a list of words\n",
    "wholetextofreview=' '.join(reviews_split)\n",
    "\n",
    "words = wholetextofreview.split()\n",
    "\n",
    "print(len(words))"
   ]
  },
  {
   "cell_type": "code",
   "execution_count": 6,
   "metadata": {},
   "outputs": [
    {
     "data": {
      "text/plain": [
       "['so',\n",
       " 'there',\n",
       " 'is',\n",
       " 'no',\n",
       " 'way',\n",
       " 'for',\n",
       " 'me',\n",
       " 'to',\n",
       " 'plug',\n",
       " 'it',\n",
       " 'in',\n",
       " 'here',\n",
       " 'in',\n",
       " 'the',\n",
       " 'us',\n",
       " 'unless',\n",
       " 'i',\n",
       " 'go',\n",
       " 'by',\n",
       " 'a',\n",
       " 'converter',\n",
       " 'good',\n",
       " 'case',\n",
       " 'excellent',\n",
       " 'value',\n",
       " 'great',\n",
       " 'for',\n",
       " 'the',\n",
       " 'jawbone',\n",
       " 'tied']"
      ]
     },
     "execution_count": 6,
     "metadata": {},
     "output_type": "execute_result"
    }
   ],
   "source": [
    "words[:30]"
   ]
  },
  {
   "cell_type": "code",
   "execution_count": 7,
   "metadata": {},
   "outputs": [
    {
     "data": {
      "text/plain": [
       "['so there is no way for me to plug it in here in the us unless i go by a converter',\n",
       " 'good case excellent value',\n",
       " 'great for the jawbone',\n",
       " 'tied to charger for conversations lasting more than 45 minutesmajor problems',\n",
       " 'the mic is great',\n",
       " 'i have to jiggle the plug to get it to line up right to get decent volume',\n",
       " 'if you have several dozen or several hundred contacts then imagine the fun of sending each of them one by one',\n",
       " 'if you are razr owneryou must have this',\n",
       " 'needless to say i wasted my money',\n",
       " 'what a waste of money and time']"
      ]
     },
     "execution_count": 7,
     "metadata": {},
     "output_type": "execute_result"
    }
   ],
   "source": [
    "reviews_split[:10]"
   ]
  },
  {
   "cell_type": "markdown",
   "metadata": {},
   "source": [
    "### Encoding the words\n",
    "\n",
    "The embedding lookup requires that we pass in integers to our network. The easiest way to do this is to create dictionaries that map the words in the vocabulary to integers. Then we can convert each of our reviews into integers so they can be passed into the network.\n",
    "\n",
    "> **Exercise:** Now you're going to encode the words with integers. Build a dictionary that maps words to integers. Later we're going to pad our input vectors with zeros, so make sure the integers **start at 1, not 0**.\n",
    "> Also, convert the reviews to integers and store the reviews in a new list called `reviews_ints`. "
   ]
  },
  {
   "cell_type": "code",
   "execution_count": 8,
   "metadata": {},
   "outputs": [
    {
     "name": "stdout",
     "output_type": "stream",
     "text": [
      "[[27, 47, 5, 57, 116, 12, 71, 6, 366, 7, 11, 65, 11, 1, 181, 638, 3, 75, 60, 4, 2209], [18, 150, 97, 510]]\n",
      "\n",
      " [27, 47, 5, 57, 116, 12, 71, 6, 366, 7, 11, 65, 11, 1, 181, 638, 3, 75, 60, 4, 2209]\n"
     ]
    }
   ],
   "source": [
    "# feel free to use this import \n",
    "from collections import Counter\n",
    "\n",
    "## Build a dictionary that maps words to integers\n",
    "\n",
    "words_count=Counter(words)\n",
    "\n",
    "#wors_sorted only contains the the most freq words to least freq in descending order\n",
    "words_sorted=sorted(words_count,key=words_count.get,reverse=True)\n",
    "\n",
    "vocab_to_int = { word:(ii+1) for ii,word in enumerate(words_sorted)}\n",
    "\n",
    "#print(vocab_to_int) ----> for debugging purposes\n",
    "\n",
    "## use the dict to tokenize each review in reviews_split\n",
    "## store the tokenized reviews in reviews_ints\n",
    "\n",
    "reviews_ints = []\n",
    "\n",
    "for review in reviews_split:\n",
    "    #appending a list for each review in reviews_split\n",
    "    reviews_ints.append([vocab_to_int[word] for word in review.split()])\n",
    "    \n",
    "#our reviews_ints is now a list containing individual reviews as a list inside it. so it is a list of lists.\n",
    "#lets look at first 2 reviews\n",
    "print(reviews_ints[:2])\n",
    "\n",
    "#see the diff in output when we write below line and compare to above line.\n",
    "\n",
    "print('\\n',reviews_ints[0])"
   ]
  },
  {
   "cell_type": "markdown",
   "metadata": {},
   "source": [
    "**Test your code**\n",
    "\n",
    "As a text that you've implemented the dictionary correctly, print out the number of unique words in your vocabulary and the contents of the first, tokenized review."
   ]
  },
  {
   "cell_type": "code",
   "execution_count": 9,
   "metadata": {},
   "outputs": [
    {
     "name": "stdout",
     "output_type": "stream",
     "text": [
      "Unique words:  5400\n",
      "\n",
      "\n",
      "Tokenized review: \n",
      " [[27, 47, 5, 57, 116, 12, 71, 6, 366, 7, 11, 65, 11, 1, 181, 638, 3, 75, 60, 4, 2209]] \n",
      "\n",
      "length of this review =  21\n",
      "\n",
      "\n",
      "so there is no way for me to plug it in here in the us unless i go by a converter \n",
      "length of the first review=  21\n"
     ]
    }
   ],
   "source": [
    "# stats about vocabulary\n",
    "print('Unique words: ', len((vocab_to_int)))  # should ~ 74000+\n",
    "print()\n",
    "\n",
    "# print tokens in first review\n",
    "print('\\nTokenized review: \\n', reviews_ints[:1],'\\n\\nlength of this review = ',len(reviews_ints[0]))\n",
    "\n",
    "print('\\n')\n",
    "\n",
    "#print the normal first review where there are actual words instead of tokens:\n",
    "print(reviews_split[0],'\\nlength of the first review= ',len(reviews_split[0].split()))"
   ]
  },
  {
   "cell_type": "markdown",
   "metadata": {},
   "source": [
    "### Encoding the labels\n",
    "\n",
    "Our labels are \"positive\" or \"negative\". To use these labels in our network, we need to convert them to 0 and 1.\n",
    "\n",
    "> **Exercise:** Convert labels from `positive` and `negative` to 1 and 0, respectively, and place those in a new list, `encoded_labels`."
   ]
  },
  {
   "cell_type": "code",
   "execution_count": 10,
   "metadata": {},
   "outputs": [
    {
     "name": "stdout",
     "output_type": "stream",
     "text": [
      "[0 1 1 0 1 0 0 1 0 0]\n"
     ]
    }
   ],
   "source": [
    "encoded_labels=np.array([1 if label == '1' else 0 for label in labels_split  ])\n",
    "print(encoded_labels[:10])"
   ]
  },
  {
   "cell_type": "markdown",
   "metadata": {},
   "source": [
    "### Removing Outliers\n",
    "\n",
    "As an additional pre-processing step, we want to make sure that our reviews are in good shape for standard processing. That is, our network will expect a standard input text size, and so, we'll want to shape our reviews into a specific length. We'll approach this task in two main steps:\n",
    "\n",
    "1. Getting rid of extremely long or short reviews; the outliers\n",
    "2. Padding/truncating the remaining data so that we have reviews of the same length.\n",
    "\n",
    "<img src=\"assets/outliers_padding_ex.png\" width=40%>\n",
    "\n",
    "Before we pad our review text, we should check for reviews of extremely short or long lengths; outliers that may mess with our training."
   ]
  },
  {
   "cell_type": "code",
   "execution_count": 11,
   "metadata": {},
   "outputs": [
    {
     "name": "stdout",
     "output_type": "stream",
     "text": [
      "Zero-length reviews: 0\n",
      "Maximum review length: 70\n",
      "average review length : 12\n"
     ]
    }
   ],
   "source": [
    "# outlier review stats\n",
    "review_lens = Counter([len(x) for x in reviews_ints])\n",
    "print(\"Zero-length reviews: {}\".format(review_lens[0]))\n",
    "print(\"Maximum review length: {}\".format(max(review_lens)))\n",
    "\n",
    "\n",
    "sum=0\n",
    "for review in reviews_ints:\n",
    "    sum+=len(review)\n",
    "avg=sum//len(reviews_ints)+1\n",
    "\n",
    "print(\"average review length : {}\".format(avg))"
   ]
  },
  {
   "cell_type": "markdown",
   "metadata": {},
   "source": [
    "Okay, a couple issues here. We seem to have one review with zero length. And, the maximum review length is way too many steps for our RNN. We'll have to remove any super short reviews and truncate super long reviews. This removes outliers and should allow our model to train more efficiently.\n",
    "\n",
    "> **Exercise:** First, remove *any* reviews with zero length from the `reviews_ints` list and their corresponding label in `encoded_labels`."
   ]
  },
  {
   "cell_type": "code",
   "execution_count": 12,
   "metadata": {},
   "outputs": [
    {
     "name": "stdout",
     "output_type": "stream",
     "text": [
      "Number of reviews before removing outliers:  3000\n",
      "Number of reviews after removing outliers:  3000\n"
     ]
    }
   ],
   "source": [
    "print('Number of reviews before removing outliers: ', len(reviews_ints))\n",
    "\n",
    "## remove any reviews/labels with zero length from the reviews_ints list.\n",
    "\n",
    "# get indices of any reviews with length 0\n",
    "non_zero_idx = [ii for ii, review in enumerate(reviews_ints) if len(review) != 0]\n",
    "\n",
    "# remove 0-length reviews and their labels\n",
    "reviews_ints = [reviews_ints[ii] for ii in non_zero_idx]\n",
    "encoded_labels = np.array([encoded_labels[ii] for ii in non_zero_idx])\n",
    "\n",
    "print('Number of reviews after removing outliers: ', len(reviews_ints))\n"
   ]
  },
  {
   "cell_type": "code",
   "execution_count": 13,
   "metadata": {},
   "outputs": [
    {
     "name": "stdout",
     "output_type": "stream",
     "text": [
      "<class 'list'>\n"
     ]
    }
   ],
   "source": [
    "print(type(reviews_ints))"
   ]
  },
  {
   "cell_type": "markdown",
   "metadata": {},
   "source": [
    "---\n",
    "## Padding sequences\n",
    "\n",
    "To deal with both short and very long reviews, we'll pad or truncate all our reviews to a specific length. For reviews shorter than some `seq_length`, we'll pad with 0s. For reviews longer than `seq_length`, we can truncate them to the first `seq_length` words. A good `seq_length`, in this case, is 200.\n",
    "\n",
    "> **Exercise:** Define a function that returns an array `features` that contains the padded data, of a standard size, that we'll pass to the network. \n",
    "* The data should come from `review_ints`, since we want to feed integers to the network. \n",
    "* Each row should be `seq_length` elements long. \n",
    "* For reviews shorter than `seq_length` words, **left pad** with 0s. That is, if the review is `['best', 'movie', 'ever']`, `[117, 18, 128]` as integers, the row will look like `[0, 0, 0, ..., 0, 117, 18, 128]`. \n",
    "* For reviews longer than `seq_length`, use only the first `seq_length` words as the feature vector.\n",
    "\n",
    "As a small example, if the `seq_length=10` and an input review is: \n",
    "```\n",
    "[117, 18, 128]\n",
    "```\n",
    "The resultant, padded sequence should be: \n",
    "\n",
    "```\n",
    "[0, 0, 0, 0, 0, 0, 0, 117, 18, 128]\n",
    "```\n",
    "\n",
    "**Your final `features` array should be a 2D array, with as many rows as there are reviews, and as many columns as the specified `seq_length`.**\n",
    "\n",
    "This isn't trivial and there are a bunch of ways to do this. But, if you're going to be building your own deep learning networks, you're going to have to get used to preparing your data."
   ]
  },
  {
   "cell_type": "code",
   "execution_count": 14,
   "metadata": {},
   "outputs": [],
   "source": [
    "## pad_features takes in a list object i.e list of lists , so we cant use shape over that \n",
    "#and then returns a nd array of batch_size(no_of_reviews)*seq_length(length_of_each_review) dimension\n",
    "\n",
    "def pad_features(reviews_ints, seq_length):\n",
    "    ''' Return features of review_ints, where each review is padded with 0's \n",
    "        or truncated to the input seq_length.\n",
    "    '''\n",
    "    \n",
    "    # getting the correct rows x cols shape\n",
    "    features = np.zeros((len(reviews_ints), seq_length), dtype=int)\n",
    "\n",
    "    # for each review, I grab that review and \n",
    "    for i, row in enumerate(reviews_ints):\n",
    "        features[i, -len(row):] = np.array(row)[:seq_length]\n",
    "    \n",
    "    return features"
   ]
  },
  {
   "cell_type": "code",
   "execution_count": 15,
   "metadata": {},
   "outputs": [
    {
     "data": {
      "text/plain": [
       "'\\n######### trials for shape ###########\\n# getting the correct rows x cols shape\\nfeatures = np.zeros((len(reviews_ints), 200), dtype=int)\\n\\nprint(features.shape)\\n\\n# for each review, I grab that review and \\n\\nfor i, row in enumerate(reviews_ints):\\n    features[i, -len(row):] = np.array(row)[:seq_length]\\n\\nprint(features.shape)\\n'"
      ]
     },
     "execution_count": 15,
     "metadata": {},
     "output_type": "execute_result"
    }
   ],
   "source": [
    "'''\n",
    "######### trials for shape ###########\n",
    "# getting the correct rows x cols shape\n",
    "features = np.zeros((len(reviews_ints), 200), dtype=int)\n",
    "\n",
    "print(features.shape)\n",
    "\n",
    "# for each review, I grab that review and \n",
    "\n",
    "for i, row in enumerate(reviews_ints):\n",
    "    features[i, -len(row):] = np.array(row)[:seq_length]\n",
    "\n",
    "print(features.shape)\n",
    "'''"
   ]
  },
  {
   "cell_type": "code",
   "execution_count": 16,
   "metadata": {},
   "outputs": [
    {
     "name": "stdout",
     "output_type": "stream",
     "text": [
      "type of features : <class 'numpy.ndarray'>\n",
      "[[  27   47    5   57  116]\n",
      " [   0   18  150   97  510]\n",
      " [   0   20   12    1 1062]\n",
      " [2210    6  234   12 1063]\n",
      " [   0    1  855    5   20]\n",
      " [   3   23    6 2212    1]\n",
      " [  44   21   23  368 1451]\n",
      " [  44   21   24  730 2214]\n",
      " [1067    6  129    3  432]\n",
      " [  76    4  145    9  157]\n",
      " [   2    1  109   74    5]\n",
      " [  79   10   17  235   70]\n",
      " [  44    1  133   41 2215]\n",
      " [   0   17   18   74  252]\n",
      " [   1  370    5   17 1069]\n",
      " [ 198  101   12   92   33]\n",
      " [   3  858  315   99   13]\n",
      " [   0   27  174   27   18]\n",
      " [   0    0    0   93   20]\n",
      " [   7 2221  166   39   11]\n",
      " [   3  222   19 1455  859]\n",
      " [   3  207    8    6  106]\n",
      " [   1 2226   24    1  123]\n",
      " [   3   23  399    6  861]\n",
      " [   3  207    7   12   16]\n",
      " [  20 1073 1074   28 1075]\n",
      " [  78  734    8   28   12]\n",
      " [   3  119  112   14    1]\n",
      " [ 147  237  317   71  254]\n",
      " [   0    0  167  640  318]]\n"
     ]
    }
   ],
   "source": [
    "# Test your implementation!\n",
    "\n",
    "seq_length = 5\n",
    "\n",
    "features = pad_features(reviews_ints, seq_length=seq_length)\n",
    "\n",
    "## test statements - do not change - ##\n",
    "assert len(features)==len(reviews_ints), \"Your features should have as many rows as reviews.\"\n",
    "assert len(features[0])==seq_length, \"Each feature row should contain seq_length values.\"\n",
    "\n",
    "# print first 10 values of the first 30 batches \n",
    "print('type of features :',type(features))\n",
    "print(features[:30,:10])\n"
   ]
  },
  {
   "cell_type": "markdown",
   "metadata": {},
   "source": [
    "## Training, Validation, Test\n",
    "\n",
    "With our data in nice shape, we'll split it into training, validation, and test sets.\n",
    "\n",
    "> **Exercise:** Create the training, validation, and test sets. \n",
    "* You'll need to create sets for the features and the labels, `train_x` and `train_y`, for example. \n",
    "* Define a split fraction, `split_frac` as the fraction of data to **keep** in the training set. Usually this is set to 0.8 or 0.9. \n",
    "* Whatever data is left will be split in half to create the validation and *testing* data."
   ]
  },
  {
   "cell_type": "code",
   "execution_count": 17,
   "metadata": {},
   "outputs": [
    {
     "name": "stdout",
     "output_type": "stream",
     "text": [
      "\t\t\tFeature Shapes:\n",
      "Train set: \t\t(2400, 5)\t<class 'numpy.ndarray'> \n",
      "Validation set: \t(300, 5)\t<class 'numpy.ndarray'> \n",
      "Test set: \t\t(300, 5)\t<class 'numpy.ndarray'>\n"
     ]
    }
   ],
   "source": [
    "split_frac = 0.8\n",
    "\n",
    "## split data into training, validation, and test data (features and labels, x and y)\n",
    "\n",
    "split_idx=int(0.8*len(reviews_split))\n",
    "\n",
    "train_x , rem_x= features[:split_idx] , features[split_idx:]\n",
    "train_y, rem_y = encoded_labels[:split_idx] , encoded_labels[split_idx:]\n",
    "\n",
    "test_idx=int(0.5*len(rem_x))\n",
    "valid_x , test_x  = rem_x[:test_idx] , rem_x[test_idx:]\n",
    "valid_y , test_y  = rem_y[:test_idx] , rem_y[test_idx:]\n",
    "\n",
    "## print out the shapes of your resultant feature data\n",
    "print(\"\\t\\t\\tFeature Shapes:\")\n",
    "print(\"Train set: \\t\\t{}\\t{}\".format(train_x.shape,type(train_x)), \n",
    "      \"\\nValidation set: \\t{}\\t{}\".format(valid_x.shape,type(valid_x)),\n",
    "      \"\\nTest set: \\t\\t{}\\t{}\".format(test_x.shape,type(test_x)))"
   ]
  },
  {
   "cell_type": "markdown",
   "metadata": {},
   "source": [
    "**Check your work**\n",
    "\n",
    "With train, validation, and test fractions equal to 0.8, 0.1, 0.1, respectively, the final, feature data shapes should look like:\n",
    "```\n",
    "                    Feature Shapes:\n",
    "Train set: \t\t (20000, 200) \n",
    "Validation set: \t(2500, 200) \n",
    "Test set: \t\t  (2500, 200)\n",
    "```"
   ]
  },
  {
   "cell_type": "markdown",
   "metadata": {},
   "source": [
    "---\n",
    "## DataLoaders and Batching\n",
    "\n",
    "After creating training, test, and validation data, we can create DataLoaders for this data by following two steps:\n",
    "1. Create a known format for accessing our data, using [TensorDataset](https://pytorch.org/docs/stable/data.html#) which takes in an input set of data and a target set of data with the same first dimension, and creates a dataset.\n",
    "2. Create DataLoaders and batch our training, validation, and test Tensor datasets.\n",
    "\n",
    "```\n",
    "train_data = TensorDataset(torch.from_numpy(train_x), torch.from_numpy(train_y))\n",
    "train_loader = DataLoader(train_data, batch_size=batch_size)\n",
    "```\n",
    "\n",
    "This is an alternative to creating a generator function for batching our data into full batches."
   ]
  },
  {
   "cell_type": "code",
   "execution_count": 18,
   "metadata": {},
   "outputs": [],
   "source": [
    "import torch\n",
    "from torch.utils.data import TensorDataset, DataLoader\n",
    "\n",
    "# create Tensor datasets\n",
    "train_data = TensorDataset(torch.from_numpy(train_x), torch.from_numpy(train_y))\n",
    "valid_data = TensorDataset(torch.from_numpy(valid_x), torch.from_numpy(valid_y))\n",
    "test_data = TensorDataset(torch.from_numpy(test_x), torch.from_numpy(test_y))\n",
    "\n",
    "# dataloaders\n",
    "batch_size = 16\n",
    "\n",
    "# make sure to SHUFFLE your data\n",
    "train_loader = DataLoader(train_data, shuffle=True, batch_size=batch_size)\n",
    "valid_loader = DataLoader(valid_data, shuffle=True, batch_size=batch_size)\n",
    "test_loader = DataLoader(test_data, shuffle=False, batch_size=batch_size)"
   ]
  },
  {
   "cell_type": "code",
   "execution_count": 19,
   "metadata": {},
   "outputs": [
    {
     "name": "stdout",
     "output_type": "stream",
     "text": [
      "Sample input size:  torch.Size([16, 5])\n",
      "Sample input: \n",
      " tensor([[   0,    0,    0,   27,   48],\n",
      "        [   3,   94,   13,  101,  148],\n",
      "        [   4,   17,   17,   17, 2971],\n",
      "        [   0,    0,   88, 3099, 1735],\n",
      "        [   0,    0,    0,   18,  142],\n",
      "        [   1,  122,  305,    1,  256],\n",
      "        [   1,  132,   24,  310,    2],\n",
      "        [  59, 1275,   67,  984,    6],\n",
      "        [   0,    0,    0,   95,  109],\n",
      "        [   1,  127,   33,    9,    1],\n",
      "        [   0,  585,   28,  301, 2346],\n",
      "        [ 124,    8,    5,    4,   25],\n",
      "        [   1,  843,   10,  290,    2],\n",
      "        [  11,  110,  967,    1, 2992],\n",
      "        [   1,   36,   10,  203,  108],\n",
      "        [   7,    5,   43, 2999,  494]])\n",
      "\n",
      "Sample label size:  torch.Size([16])\n",
      "Sample label: \n",
      " tensor([0, 0, 0, 0, 1, 0, 1, 0, 1, 0, 0, 0, 1, 1, 1, 1])\n"
     ]
    }
   ],
   "source": [
    "# obtain one batch of training data\n",
    "dataiter = iter(train_loader)\n",
    "sample_x, sample_y = dataiter.next()\n",
    "\n",
    "print('Sample input size: ', sample_x.size()) # batch_size, seq_length\n",
    "print('Sample input: \\n', sample_x)\n",
    "print()\n",
    "print('Sample label size: ', sample_y.size()) # batch_size\n",
    "print('Sample label: \\n', sample_y)"
   ]
  },
  {
   "cell_type": "markdown",
   "metadata": {},
   "source": [
    "---\n",
    "# Sentiment Network with PyTorch\n",
    "\n",
    "Below is where you'll define the network.\n",
    "\n",
    "<img src=\"assets/network_diagram.png\" width=40%>\n",
    "\n",
    "The layers are as follows:\n",
    "1. An [embedding layer](https://pytorch.org/docs/stable/nn.html#embedding) that converts our word tokens (integers) into embeddings of a specific size.\n",
    "2. An [LSTM layer](https://pytorch.org/docs/stable/nn.html#lstm) defined by a hidden_state size and number of layers\n",
    "3. A fully-connected output layer that maps the LSTM layer outputs to a desired output_size\n",
    "4. A sigmoid activation layer which turns all outputs into a value 0-1; return **only the last sigmoid output** as the output of this network.\n",
    "\n",
    "### The Embedding Layer\n",
    "\n",
    "We need to add an [embedding layer](https://pytorch.org/docs/stable/nn.html#embedding) because there are 74000+ words in our vocabulary. It is massively inefficient to one-hot encode that many classes. So, instead of one-hot encoding, we can have an embedding layer and use that layer as a lookup table. You could train an embedding layer using Word2Vec, then load it here. But, it's fine to just make a new layer, using it for only dimensionality reduction, and let the network learn the weights.\n",
    "\n",
    "\n",
    "### The LSTM Layer(s)\n",
    "\n",
    "We'll create an [LSTM](https://pytorch.org/docs/stable/nn.html#lstm) to use in our recurrent network, which takes in an input_size, a hidden_dim, a number of layers, a dropout probability (for dropout between multiple layers), and a batch_first parameter.\n",
    "\n",
    "Most of the time, you're network will have better performance with more layers; between 2-3. Adding more layers allows the network to learn really complex relationships. \n",
    "\n",
    "> **Exercise:** Complete the `__init__`, `forward`, and `init_hidden` functions for the SentimentRNN model class.\n",
    "\n",
    "Note: `init_hidden` should initialize the hidden and cell state of an lstm layer to all zeros, and move those state to GPU, if available."
   ]
  },
  {
   "cell_type": "code",
   "execution_count": 20,
   "metadata": {},
   "outputs": [
    {
     "name": "stdout",
     "output_type": "stream",
     "text": [
      "No GPU available, training on CPU.\n"
     ]
    }
   ],
   "source": [
    "# First checking if GPU is available\n",
    "train_on_gpu=torch.cuda.is_available()\n",
    "\n",
    "if(train_on_gpu):\n",
    "    print('Training on GPU.')\n",
    "else:\n",
    "    print('No GPU available, training on CPU.')"
   ]
  },
  {
   "cell_type": "code",
   "execution_count": 21,
   "metadata": {},
   "outputs": [
    {
     "name": "stdout",
     "output_type": "stream",
     "text": [
      "tensor([1., 2.])\n"
     ]
    }
   ],
   "source": [
    "a=torch.Tensor([1,2])\n",
    "print(a)\n",
    "\n",
    "#b=a.long()\n",
    "#print(b)"
   ]
  },
  {
   "cell_type": "code",
   "execution_count": 22,
   "metadata": {},
   "outputs": [
    {
     "name": "stderr",
     "output_type": "stream",
     "text": [
      "/home/shubham/anaconda3/envs/pytorch/lib/python3.8/site-packages/torch/nn/modules/rnn.py:47: UserWarning: dropout option adds dropout after all but last recurrent layer, so non-zero dropout expects num_layers greater than 1, but got dropout=0.25 and num_layers=1\n",
      "  warnings.warn(\"dropout option adds dropout after all but last \"\n"
     ]
    }
   ],
   "source": [
    "#### visualinsing shapes as it moves through layers ###\n",
    "\n",
    "import torch.nn as nn\n",
    "\n",
    "embedding_dim=10\n",
    "\n",
    "batch_size=16\n",
    "\n",
    "n_layers=1\n",
    "\n",
    "n_hidden=20\n",
    "\n",
    "embeddinglayer=nn.Embedding(len(vocab_to_int),embedding_dim)\n",
    "\n",
    "lstmlayer=nn.LSTM(embedding_dim,n_hidden,n_layers,dropout=0.25,batch_first=True)\n",
    "\n",
    "lin=nn.Linear(n_hidden,1)\n",
    "\n",
    "hidden=(torch.zeros(n_layers,batch_size,n_hidden),torch.zeros(n_layers,batch_size,n_hidden))\n",
    "\n",
    "#fc=nn.Linear()"
   ]
  },
  {
   "cell_type": "code",
   "execution_count": 23,
   "metadata": {},
   "outputs": [
    {
     "name": "stdout",
     "output_type": "stream",
     "text": [
      "shape of input to embedding is :  torch.Size([16, 5])\n",
      "shape coming out from embedding is :  torch.Size([16, 5, 10])\n",
      "output shape coming out from lstm is :  torch.Size([16, 5, 20])\n",
      "hidden shape coming out from lstm is :  torch.Size([1, 16, 20])\n",
      "inputs to linear layer dim : torch.Size([80, 20])\n",
      "outputs from linear layer dim : torch.Size([80, 1])\n",
      "outputs from linear layer reshape into shape of out inputs dim : torch.Size([16, 5])\n",
      "\n",
      "output label finally displayed to user :\n",
      " tensor([0.2829, 0.2230, 0.2547, 0.2121, 0.2551, 0.1784, 0.1023, 0.2455, 0.1497,\n",
      "        0.2020, 0.2165, 0.1625, 0.0665, 0.1677, 0.1680, 0.1289],\n",
      "       grad_fn=<SelectBackward>)\n",
      "torch.Size([16])\n"
     ]
    }
   ],
   "source": [
    "#### visualinsing shapes as it moves through layers ###\n",
    "\n",
    "dataiter = iter(train_loader)\n",
    "\n",
    "sample_x, sample_y = dataiter.next()\n",
    "print('shape of input to embedding is : ',sample_x.shape)\n",
    "\n",
    "output_from_embed=embeddinglayer(sample_x)\n",
    "print('shape coming out from embedding is : ',output_from_embed.shape)\n",
    "\n",
    "\n",
    "output_from_lstm,hidden_from_lstm=lstmlayer(output_from_embed,hidden)\n",
    "print('output shape coming out from lstm is : ',output_from_lstm.shape)\n",
    "print('hidden shape coming out from lstm is : ',hidden_from_lstm[0].shape)\n",
    "\n",
    "out=output_from_lstm.reshape(-1,n_hidden)\n",
    "print('inputs to linear layer dim :',out.shape)\n",
    "\n",
    "out=lin(out)\n",
    "print('outputs from linear layer dim :',out.shape)\n",
    "\n",
    "#reshaping the output in form of input\n",
    "outnew=out.view(batch_size,-1)\n",
    "print('outputs from linear layer reshape into shape of out inputs dim :',outnew.shape)\n",
    "\n",
    "#now we take only the last value as ouput by using the below code.\n",
    "## observe outnew has dimenisons [50, 200] means for each review , we have 200 outputs , each produced by looking \n",
    "## at 200 words in sequence, but all we need here is only the output value after we have looked thorugh whole seq\n",
    "## so outnew[:,-1] means for all the rows take the output value after 200 words only.\n",
    "\n",
    "\n",
    "### for comparison write : print(outnew) and see last column value for each of 50 rows is shown by outnew[:,-1]\n",
    "\n",
    "outfinal=outnew[:,-1]\n",
    "print('\\noutput label finally displayed to user :\\n',outfinal)\n",
    "print(outnew[:,-1].shape)\n",
    "##############PLEASE NOTE\n",
    "### if number of otput classes was 2, i.e the network predicts betwen 2 classes then, output shape would be [50,400]\n",
    "### i.e [50,200*2] for 2 classes"
   ]
  },
  {
   "cell_type": "code",
   "execution_count": 24,
   "metadata": {},
   "outputs": [
    {
     "name": "stdout",
     "output_type": "stream",
     "text": [
      "for one batch we see what the labels are :\n",
      " tensor([1, 0, 0, 0, 0, 1, 1, 1, 1, 1, 0, 0, 0, 0, 1, 1])\n",
      "for one batch we see what the label shapes are :\n",
      " torch.Size([16])\n",
      "for one batch we see what the prediction labels are :\n",
      " tensor([0.2829, 0.2230, 0.2547, 0.2121, 0.2551, 0.1784, 0.1023, 0.2455, 0.1497,\n",
      "        0.2020, 0.2165, 0.1625, 0.0665, 0.1677, 0.1680, 0.1289],\n",
      "       grad_fn=<SelectBackward>)\n",
      "for one batch we see what the predcition label shapes are :\n",
      " torch.Size([16])\n",
      "effect of adding squeeze() \n",
      " tensor([0.2829, 0.2230, 0.2547, 0.2121, 0.2551, 0.1784, 0.1023, 0.2455, 0.1497,\n",
      "        0.2020, 0.2165, 0.1625, 0.0665, 0.1677, 0.1680, 0.1289],\n",
      "       grad_fn=<SqueezeBackward0>)\n",
      "predcition label shapes after squeeze :\n",
      " torch.Size([16])\n"
     ]
    }
   ],
   "source": [
    "#during loss calculation we see that we use loss=criterion(output.squeeze(),labels)\n",
    "# so we are here to test and try the shapes to see whats actually happening\n",
    "\n",
    "print('for one batch we see what the labels are :\\n',sample_y)\n",
    "print('for one batch we see what the label shapes are :\\n',sample_y.shape)\n",
    "\n",
    "\n",
    "print('for one batch we see what the prediction labels are :\\n',outfinal)\n",
    "print('for one batch we see what the predcition label shapes are :\\n',outfinal.shape)\n",
    "\n",
    "print('effect of adding squeeze() \\n',outfinal.squeeze())\n",
    "print('predcition label shapes after squeeze :\\n',outfinal.shape)\n"
   ]
  },
  {
   "cell_type": "code",
   "execution_count": 25,
   "metadata": {},
   "outputs": [],
   "source": [
    "import torch.nn as nn\n",
    "\n",
    "class SentimentRNN(nn.Module):\n",
    "    \"\"\"\n",
    "    The RNN model that will be used to perform Sentiment analysis.\n",
    "    \"\"\"\n",
    "\n",
    "    def __init__(self, vocab_size, output_size, embedding_dim, hidden_dim, n_layers, drop_prob=0.3):\n",
    "        \"\"\"\n",
    "        Initialize the model by setting up the layers.\n",
    "        \"\"\"\n",
    "        super(SentimentRNN, self).__init__()\n",
    "        \n",
    "       \n",
    "        \n",
    "        self.output_size = output_size\n",
    "        self.n_layers = n_layers\n",
    "        self.hidden_dim = hidden_dim\n",
    "        self.embedding_dim=embedding_dim\n",
    "        self.vocab_size=vocab_size\n",
    "        \n",
    "        # define all layers\n",
    "        \n",
    "        self.embed=nn.Embedding(vocab_size,embedding_dim)\n",
    "\n",
    "        #lstm(batchnumer of input features,number of hidden units,number of layers)\n",
    "        self.lstm=nn.LSTM(embedding_dim,hidden_dim,n_layers,dropout=drop_prob,batch_first=True)\n",
    "        \n",
    "        self.fc=nn.Linear(hidden_dim,output_size)\n",
    "        \n",
    "        self.dropout=nn.Dropout(0.3)\n",
    "        \n",
    "        self.sigmoid=nn.Sigmoid()\n",
    "\n",
    "    def forward(self, x, hidden):\n",
    "        \"\"\"\n",
    "        Perform a forward pass of our model on some input and hidden state.\n",
    "        \"\"\"\n",
    "        batch_size=x.size(0)\n",
    "        x = x.long()\n",
    "            \n",
    "        embedded = self.embed(x)\n",
    "        lstmout,r_hidden = self.lstm(embedded,hidden)\n",
    "        lstmout=lstmout.contiguous().view(-1,self.hidden_dim)\n",
    "        \n",
    "        #out=self.dropout(lstmout)\n",
    "        \n",
    "        out=self.fc(lstmout)\n",
    "        sig_out=self.sigmoid(out)\n",
    "        sig_out=sig_out.view(batch_size,-1)\n",
    "        sig_out = sig_out[:, -1] # get last batch of labels\n",
    "        \n",
    "        # return last sigmoid output and hidden state\n",
    "        return sig_out, hidden\n",
    "    \n",
    "    \n",
    "    def init_hidden(self, batch_size):\n",
    "        ''' Initializes hidden state '''\n",
    "        # Create two new tensors with sizes n_layers x batch_size x hidden_dim,\n",
    "        # initialized to zero, for hidden state and cell state of LSTM\n",
    "        \n",
    "        weight=next(self.parameters()).data\n",
    "        \n",
    "        if train_on_gpu:\n",
    "            hidden=(weight.new(self.n_layers,batch_size,self.hidden_dim).zero_().cuda(),\n",
    "                    weight.new(self.n_layers,batch_size,self.hidden_dim).zero_().cuda())\n",
    "        else:\n",
    "            hidden=(weight.new(self.n_layers,batch_size,self.hidden_dim).zero_(),\n",
    "                    weight.new(self.n_layers,batch_size,self.hidden_dim).zero_())\n",
    "        return hidden\n",
    "        "
   ]
  },
  {
   "cell_type": "markdown",
   "metadata": {},
   "source": [
    "## Instantiate the network\n",
    "\n",
    "Here, we'll instantiate the network. First up, defining the hyperparameters.\n",
    "\n",
    "* `vocab_size`: Size of our vocabulary or the range of values for our input, word tokens.\n",
    "* `output_size`: Size of our desired output; the number of class scores we want to output (pos/neg).\n",
    "* `embedding_dim`: Number of columns in the embedding lookup table; size of our embeddings.\n",
    "* `hidden_dim`: Number of units in the hidden layers of our LSTM cells. Usually larger is better performance wise. Common values are 128, 256, 512, etc.\n",
    "* `n_layers`: Number of LSTM layers in the network. Typically between 1-3\n",
    "\n",
    "> **Exercise:** Define the model  hyperparameters.\n"
   ]
  },
  {
   "cell_type": "code",
   "execution_count": 26,
   "metadata": {},
   "outputs": [
    {
     "name": "stdout",
     "output_type": "stream",
     "text": [
      "SentimentRNN(\n",
      "  (embed): Embedding(5401, 45)\n",
      "  (lstm): LSTM(45, 25, num_layers=2, batch_first=True, dropout=0.3)\n",
      "  (fc): Linear(in_features=25, out_features=1, bias=True)\n",
      "  (dropout): Dropout(p=0.3, inplace=False)\n",
      "  (sigmoid): Sigmoid()\n",
      ")\n"
     ]
    }
   ],
   "source": [
    "# Instantiate the model w/ hyperparams\n",
    "vocab_size = len(vocab_to_int) + 1\n",
    "output_size = 1\n",
    "embedding_dim = 45\n",
    "hidden_dim = 25\n",
    "n_layers = 2\n",
    "\n",
    "net = SentimentRNN(vocab_size, output_size, embedding_dim, hidden_dim, n_layers)\n",
    "\n",
    "print(net)\n"
   ]
  },
  {
   "cell_type": "code",
   "execution_count": 27,
   "metadata": {},
   "outputs": [
    {
     "name": "stdout",
     "output_type": "stream",
     "text": [
      "243045 \t <class 'int'>\n",
      "4500 \t <class 'int'>\n",
      "2500 \t <class 'int'>\n",
      "100 \t <class 'int'>\n",
      "100 \t <class 'int'>\n",
      "2500 \t <class 'int'>\n",
      "2500 \t <class 'int'>\n",
      "100 \t <class 'int'>\n",
      "100 \t <class 'int'>\n",
      "25 \t <class 'int'>\n",
      "1 \t <class 'int'>\n",
      "290809\n"
     ]
    }
   ],
   "source": [
    "for p in net.parameters():\n",
    "    sum+=p.numel()\n",
    "    print(p.numel(),'\\t',type(p.numel()))\n",
    "\n",
    "print(sum)"
   ]
  },
  {
   "cell_type": "code",
   "execution_count": 24,
   "metadata": {},
   "outputs": [
    {
     "ename": "TypeError",
     "evalue": "'int' object is not callable",
     "output_type": "error",
     "traceback": [
      "\u001b[0;31m---------------------------------------------------------------------------\u001b[0m",
      "\u001b[0;31mTypeError\u001b[0m                                 Traceback (most recent call last)",
      "\u001b[0;32m<ipython-input-24-a0bc47aa8120>\u001b[0m in \u001b[0;36m<module>\u001b[0;34m\u001b[0m\n\u001b[1;32m      4\u001b[0m \u001b[0;31m#1500045\u001b[0m\u001b[0;34m\u001b[0m\u001b[0;34m\u001b[0m\u001b[0;34m\u001b[0m\u001b[0m\n\u001b[1;32m      5\u001b[0m \u001b[0;31m#2090996\u001b[0m\u001b[0;34m\u001b[0m\u001b[0;34m\u001b[0m\u001b[0;34m\u001b[0m\u001b[0m\n\u001b[0;32m----> 6\u001b[0;31m \u001b[0mpytorch_total_params\u001b[0m \u001b[0;34m=\u001b[0m \u001b[0msum\u001b[0m\u001b[0;34m(\u001b[0m\u001b[0mp\u001b[0m\u001b[0;34m.\u001b[0m\u001b[0mnumel\u001b[0m\u001b[0;34m(\u001b[0m\u001b[0;34m)\u001b[0m \u001b[0;32mfor\u001b[0m \u001b[0mp\u001b[0m \u001b[0;32min\u001b[0m \u001b[0mnet\u001b[0m\u001b[0;34m.\u001b[0m\u001b[0mparameters\u001b[0m\u001b[0;34m(\u001b[0m\u001b[0;34m)\u001b[0m\u001b[0;34m)\u001b[0m\u001b[0;34m\u001b[0m\u001b[0;34m\u001b[0m\u001b[0m\n\u001b[0m\u001b[1;32m      7\u001b[0m \u001b[0mprint\u001b[0m\u001b[0;34m(\u001b[0m\u001b[0mpytorch_total_params\u001b[0m\u001b[0;34m)\u001b[0m\u001b[0;34m\u001b[0m\u001b[0;34m\u001b[0m\u001b[0m\n",
      "\u001b[0;31mTypeError\u001b[0m: 'int' object is not callable"
     ]
    }
   ],
   "source": [
    "'''\n",
    "######## FINDING THR TOTAL NUMBER OF PARAMETERS USED IN OUR MODEL\n",
    "#9485544\n",
    "#10950251\n",
    "#1500045\n",
    "#2090996\n",
    "pytorch_total_params = sum(p.numel() for p in net.parameters())\n",
    "print(pytorch_total_params)\n",
    "'''"
   ]
  },
  {
   "cell_type": "markdown",
   "metadata": {},
   "source": [
    "---\n",
    "## Training\n",
    "\n",
    "Below is the typical training code. If you want to do this yourself, feel free to delete all this code and implement it yourself. You can also add code to save a model by name.\n",
    "\n",
    ">We'll also be using a new kind of cross entropy loss, which is designed to work with a single Sigmoid output. [BCELoss](https://pytorch.org/docs/stable/nn.html#bceloss), or **Binary Cross Entropy Loss**, applies cross entropy loss to a single value between 0 and 1.\n",
    "\n",
    "We also have some data and training hyparameters:\n",
    "\n",
    "* `lr`: Learning rate for our optimizer.\n",
    "* `epochs`: Number of times to iterate through the training dataset.\n",
    "* `clip`: The maximum gradient value to clip at (to prevent exploding gradients)."
   ]
  },
  {
   "cell_type": "code",
   "execution_count": 28,
   "metadata": {},
   "outputs": [],
   "source": [
    "# loss and optimization functions\n",
    "lr=0.001\n",
    "\n",
    "criterion = nn.BCELoss()\n",
    "optimizer = torch.optim.Adam(net.parameters(), lr=lr)\n"
   ]
  },
  {
   "cell_type": "code",
   "execution_count": 77,
   "metadata": {},
   "outputs": [
    {
     "name": "stdout",
     "output_type": "stream",
     "text": [
      "Epoch: 1/6... Step: 100... Loss: 0.539836... Val Loss: 0.641274\n",
      "Validation loss decreased (inf --> 0.641274).  Saving model ...\n",
      "Epoch: 1/6... Step: 200... Loss: 0.675584... Val Loss: 0.545764\n",
      "Validation loss decreased (0.641274 --> 0.545764).  Saving model ...\n",
      "Epoch: 1/6... Step: 300... Loss: 0.335760... Val Loss: 0.523006\n",
      "Validation loss decreased (0.545764 --> 0.523006).  Saving model ...\n",
      "Epoch: 1/6... Step: 400... Loss: 0.486787... Val Loss: 0.500252\n",
      "Validation loss decreased (0.523006 --> 0.500252).  Saving model ...\n",
      "Epoch: 2/6... Step: 500... Loss: 0.400689... Val Loss: 0.475716\n",
      "Validation loss decreased (0.500252 --> 0.475716).  Saving model ...\n",
      "Epoch: 2/6... Step: 600... Loss: 0.282487... Val Loss: 0.446840\n",
      "Validation loss decreased (0.475716 --> 0.446840).  Saving model ...\n",
      "Epoch: 2/6... Step: 700... Loss: 0.322236... Val Loss: 0.443612\n",
      "Validation loss decreased (0.446840 --> 0.443612).  Saving model ...\n",
      "Epoch: 2/6... Step: 800... Loss: 0.701579... Val Loss: 0.663093\n",
      "Epoch: 3/6... Step: 900... Loss: 0.677001... Val Loss: 0.681853\n",
      "Epoch: 3/6... Step: 1000... Loss: 0.387043... Val Loss: 0.500170\n",
      "Epoch: 3/6... Step: 1100... Loss: 0.429482... Val Loss: 0.521204\n",
      "Epoch: 3/6... Step: 1200... Loss: 0.378949... Val Loss: 0.513764\n",
      "Epoch: 4/6... Step: 1300... Loss: 0.215323... Val Loss: 0.462179\n",
      "Epoch: 4/6... Step: 1400... Loss: 0.307635... Val Loss: 0.478715\n",
      "Epoch: 4/6... Step: 1500... Loss: 0.135204... Val Loss: 0.455950\n",
      "Epoch: 4/6... Step: 1600... Loss: 0.179409... Val Loss: 0.430571\n",
      "Validation loss decreased (0.443612 --> 0.430571).  Saving model ...\n",
      "Epoch: 5/6... Step: 1700... Loss: 0.061500... Val Loss: 0.559372\n",
      "Epoch: 5/6... Step: 1800... Loss: 0.061571... Val Loss: 0.556610\n",
      "Epoch: 5/6... Step: 1900... Loss: 0.265267... Val Loss: 0.552647\n",
      "Epoch: 5/6... Step: 2000... Loss: 0.015263... Val Loss: 0.596795\n",
      "Epoch: 6/6... Step: 2100... Loss: 0.167752... Val Loss: 0.735137\n",
      "Epoch: 6/6... Step: 2200... Loss: 0.009859... Val Loss: 0.669386\n",
      "Epoch: 6/6... Step: 2300... Loss: 0.124229... Val Loss: 0.691787\n",
      "Epoch: 6/6... Step: 2400... Loss: 0.029317... Val Loss: 0.707739\n"
     ]
    }
   ],
   "source": [
    "# training params\n",
    "\n",
    "epochs = 6 # 3-4 is approx where I noticed the validation loss stop decreasing\n",
    "\n",
    "valid_loss_min = np.Inf # track change in validation loss\n",
    "\n",
    "counter = 0\n",
    "print_every = 100\n",
    "clip=5 # gradient clipping\n",
    "\n",
    "# move model to GPU, if available\n",
    "if(train_on_gpu):\n",
    "    net.cuda()\n",
    "\n",
    "net.train()\n",
    "# train for some number of epochs\n",
    "train_losses=[]\n",
    "valid_losses=[]\n",
    "\n",
    "for e in range(epochs):\n",
    "    # initialize hidden state\n",
    "    h = net.init_hidden(batch_size)\n",
    "    \n",
    "    # batch loop\n",
    "    for inputs, labels in train_loader:\n",
    "        counter += 1\n",
    "        running_loss=0\n",
    "\n",
    "        if(train_on_gpu):\n",
    "            inputs, labels = inputs.cuda(), labels.cuda()\n",
    "\n",
    "        # Creating new variables for the hidden state, otherwise\n",
    "        # we'd backprop through the entire training history\n",
    "        h = tuple([each.data for each in h])\n",
    "\n",
    "        # zero accumulated gradients\n",
    "        net.zero_grad()\n",
    "\n",
    "        # get the output from the model\n",
    "        output, h = net(inputs, h)\n",
    "\n",
    "        # calculate the loss and perform backprop\n",
    "        loss = criterion(output.squeeze(), labels.float())\n",
    "        loss.backward()\n",
    "        \n",
    "        running_loss+=loss.item()\n",
    "        \n",
    "        # `clip_grad_norm` helps prevent the exploding gradient problem in RNNs / LSTMs.\n",
    "        nn.utils.clip_grad_norm_(net.parameters(), clip)\n",
    "        \n",
    "        train_losses.append(loss.item())\n",
    "        \n",
    "        optimizer.step()\n",
    "\n",
    "        # loss stats\n",
    "        if counter % print_every == 0:\n",
    "            # Get validation loss\n",
    "            valid_loss=0\n",
    "            val_h = net.init_hidden(batch_size)\n",
    "            val_losses = []\n",
    "            net.eval()\n",
    "            for inputs, labels in valid_loader:\n",
    "\n",
    "                # Creating new variables for the hidden state, otherwise\n",
    "                # we'd backprop through the entire training history\n",
    "                val_h = tuple([each.data for each in val_h])\n",
    "\n",
    "                if(train_on_gpu):\n",
    "                    inputs, labels = inputs.cuda(), labels.cuda()\n",
    "\n",
    "                output, val_h = net(inputs, val_h)\n",
    "                val_loss = criterion(output.squeeze(), labels.float())\n",
    "\n",
    "                val_losses.append(val_loss.item())\n",
    "                \n",
    "                valid_loss+=val_loss.item()\n",
    "                \n",
    "                \n",
    "            train_losses.append(running_loss/counter)\n",
    "            valid_losses.append(valid_loss/len(valid_loader))\n",
    "        \n",
    "            #net.train()\n",
    "            \n",
    "            meanvalloss=np.mean(val_losses).item()\n",
    "            print(\"Epoch: {}/{}...\".format(e+1, epochs),\n",
    "                  \"Step: {}...\".format(counter),\n",
    "                  \"Loss: {:.6f}...\".format(loss.item()),\n",
    "                  \"Val Loss: {:.6f}\".format(np.mean(val_losses)))\n",
    "            \n",
    "            if meanvalloss <= valid_loss_min:\n",
    "                print('Validation loss decreased ({:.6f} --> {:.6f}).  Saving model ...'.format(\n",
    "                    valid_loss_min,\n",
    "                    np.mean(val_losses)))\n",
    "                \n",
    "                checkpoint = {'hidden_dim': net.hidden_dim,\n",
    "                              'output_size':net.output_size,\n",
    "                              'vocab_size':net.vocab_size,\n",
    "                              'n_layers': net.n_layers,\n",
    "                              'embedding_dim':net.embedding_dim,\n",
    "                              'state_dict': net.state_dict()\n",
    "                             }\n",
    "                \n",
    "                with open('sentiment_analysis1.pt', 'wb') as f:\n",
    "                    torch.save(checkpoint, f)\n",
    "                \n",
    "                #torch.save(net.state_dict(), 'sentiment_analysis.pt')\n",
    "                valid_loss_min = meanvalloss\n",
    "            \n",
    "            net.train()"
   ]
  },
  {
   "cell_type": "code",
   "execution_count": 78,
   "metadata": {},
   "outputs": [
    {
     "data": {
      "text/plain": [
       "<matplotlib.legend.Legend at 0x7fb25f0ff1d0>"
      ]
     },
     "execution_count": 78,
     "metadata": {},
     "output_type": "execute_result"
    },
    {
     "data": {
      "image/png": "[encoded data removed]",
      "text/plain": [
       "<matplotlib.figure.Figure at 0x7fb29f89cf98>"
      ]
     },
     "metadata": {
      "image/png": {
       "height": 250,
       "width": 379
      },
      "needs_background": "light"
     },
     "output_type": "display_data"
    }
   ],
   "source": [
    "%matplotlib inline\n",
    "%config InlineBackend.figure_format = 'retina'\n",
    "\n",
    "import matplotlib.pyplot as plt\n",
    "\n",
    "\n",
    "\n",
    "plt.plot(train_losses, label='Training loss')\n",
    "plt.plot(valid_losses, label='Validation loss')\n",
    "plt.legend(frameon=False)"
   ]
  },
  {
   "cell_type": "code",
   "execution_count": null,
   "metadata": {},
   "outputs": [],
   "source": [
    "########### Saving my model\n",
    "\n",
    "'''\n",
    "## TODO: set you model hyperparameters\n",
    "# define and print the net\n",
    "n_hidden=512\n",
    "n_layers=3\n",
    "\n",
    "net = CharRNN(chars, n_hidden, n_layers)\n",
    "\n",
    "##parameters presrve within the model\n",
    "self.drop_prob = drop_prob\n",
    "self.n_layers = n_layers\n",
    "self.n_hidden = n_hidden\n",
    "self.lr = lr\n",
    "        \n",
    "self.chars = tokens\n",
    "self.int2char = dict(enumerate(self.chars))\n",
    "self.char2int = {ch: ii for ii, ch in self.int2char.items()}\n",
    "        \n",
    "# change the name, for saving multiple files\n",
    "model_name = 'rnn_x_epoch.net'\n",
    "\n",
    "checkpoint = {'n_hidden': net.n_hidden,\n",
    "              'n_layers': net.n_layers,\n",
    "              'state_dict': net.state_dict(),\n",
    "              'tokens': net.chars}\n",
    "\n",
    "with open(model_name, 'wb') as f:\n",
    "    torch.save(checkpoint, f)\n",
    "\n",
    "# Instantiate the model w/ hyperparams\n",
    "vocab_size = len(vocab_to_int) + 1\n",
    "output_size = 1\n",
    "embedding_dim = 400\n",
    "hidden_dim = 300\n",
    "n_layers = 3\n",
    "\n",
    "net = SentimentRNN(vocab_size, output_size, embedding_dim, hidden_dim, n_layers)\n",
    "\n",
    "#parameters presrve within the model\n",
    "self.output_size = output_size\n",
    "self.n_layers = n_layers\n",
    "self.hidden_dim = hidden_dim\n",
    "self.embedding_dim=embedding_dim\n",
    "self.vocab_size=vocab_size\n",
    "\n",
    "\n",
    "# change the name, for saving multiple files\n",
    "model_name = 'sentiment.net'\n",
    "\n",
    "checkpoint = {'hidden_dim': net.hidden_dim,\n",
    "              'output_size':net.output_size,\n",
    "              'vocab_size':net.vocab_size,\n",
    "              'n_layers': net.n_layers,\n",
    "              'embedding_dim':net.embedding_dim,\n",
    "              'state_dict': net.state_dict()\n",
    "             }\n",
    "\n",
    "with open(model_name, 'wb') as f:\n",
    "    torch.save(checkpoint, f)\n",
    "\n",
    "'''"
   ]
  },
  {
   "cell_type": "code",
   "execution_count": null,
   "metadata": {},
   "outputs": [],
   "source": [
    "'''\n",
    "# Here we have loaded in a model that we saved before \n",
    "\n",
    "#structure of model is:\n",
    "#net = SentimentRNN(vocab_size, output_size, embedding_dim, hidden_dim, n_layers)\n",
    "\n",
    "import torch\n",
    "with open('sentiment.net', 'rb') as f:\n",
    "    checkpoint = torch.load(f,map_location='cpu')\n",
    "    \n",
    "loaded = SentimentRNN(checkpoint['vocab_size'],\n",
    "                      hidden_dim=checkpoint['hidden_dim'],\n",
    "                      n_layers=checkpoint['n_layers'],\n",
    "                      output_size=checkpoint['output_size'],\n",
    "                      embedding_dim=checkpoint['embedding_dim'])\n",
    "                      \n",
    "loaded.load_state_dict(checkpoint['state_dict'])\n",
    "'''"
   ]
  },
  {
   "cell_type": "markdown",
   "metadata": {},
   "source": [
    "---\n",
    "## Testing\n",
    "\n",
    "There are a few ways to test your network.\n",
    "\n",
    "* **Test data performance:** First, we'll see how our trained model performs on all of our defined test_data, above. We'll calculate the average loss and accuracy over the test data.\n",
    "\n",
    "* **Inference on user-generated data:** Second, we'll see if we can input just one example review at a time (without a label), and see what the trained model predicts. Looking at new, user input data like this, and predicting an output label, is called **inference**."
   ]
  },
  {
   "cell_type": "code",
   "execution_count": 65,
   "metadata": {},
   "outputs": [
    {
     "ename": "NameError",
     "evalue": "name 'net' is not defined",
     "output_type": "error",
     "traceback": [
      "\u001b[0;31m---------------------------------------------------------------------------\u001b[0m",
      "\u001b[0;31mNameError\u001b[0m                                 Traceback (most recent call last)",
      "\u001b[0;32m<ipython-input-65-3904657ecfa0>\u001b[0m in \u001b[0;36m<module>\u001b[0;34m()\u001b[0m\n\u001b[1;32m      5\u001b[0m \u001b[0;34m\u001b[0m\u001b[0m\n\u001b[1;32m      6\u001b[0m \u001b[0;31m# init hidden state\u001b[0m\u001b[0;34m\u001b[0m\u001b[0;34m\u001b[0m\u001b[0m\n\u001b[0;32m----> 7\u001b[0;31m \u001b[0mh\u001b[0m \u001b[0;34m=\u001b[0m \u001b[0mnet\u001b[0m\u001b[0;34m.\u001b[0m\u001b[0minit_hidden\u001b[0m\u001b[0;34m(\u001b[0m\u001b[0mbatch_size\u001b[0m\u001b[0;34m)\u001b[0m\u001b[0;34m\u001b[0m\u001b[0m\n\u001b[0m\u001b[1;32m      8\u001b[0m \u001b[0;34m\u001b[0m\u001b[0m\n\u001b[1;32m      9\u001b[0m \u001b[0mnet\u001b[0m\u001b[0;34m.\u001b[0m\u001b[0meval\u001b[0m\u001b[0;34m(\u001b[0m\u001b[0;34m)\u001b[0m\u001b[0;34m\u001b[0m\u001b[0m\n",
      "\u001b[0;31mNameError\u001b[0m: name 'net' is not defined"
     ]
    }
   ],
   "source": [
    "# Get test data loss and accuracy\n",
    "\n",
    "test_losses = [] # track loss\n",
    "num_correct = 0\n",
    "\n",
    "# init hidden state\n",
    "h = net.init_hidden(batch_size)\n",
    "\n",
    "net.eval()\n",
    "# iterate over test data\n",
    "for inputs, labels in test_loader:\n",
    "\n",
    "    # Creating new variables for the hidden state, otherwise\n",
    "    # we'd backprop through the entire training history\n",
    "    h = tuple([each.data for each in h])\n",
    "\n",
    "    if(train_on_gpu):\n",
    "        inputs, labels = inputs.cuda(), labels.cuda()\n",
    "    \n",
    "    # get predicted outputs\n",
    "    output, h = net(inputs, h)\n",
    "    \n",
    "    # calculate loss\n",
    "    test_loss = criterion(output.squeeze(), labels.float())\n",
    "    test_losses.append(test_loss.item())\n",
    "    \n",
    "    # convert output probabilities to predicted class (0 or 1)\n",
    "    pred = torch.round(output.squeeze())  # rounds to the nearest integer\n",
    "    \n",
    "    # compare predictions to true label\n",
    "    correct_tensor = pred.eq(labels.float().view_as(pred))\n",
    "    correct = np.squeeze(correct_tensor.numpy()) if not train_on_gpu else np.squeeze(correct_tensor.cpu().numpy())\n",
    "    num_correct += np.sum(correct)\n",
    "\n",
    "\n",
    "# -- stats! -- ##\n",
    "# avg test loss\n",
    "print(\"Test loss: {:.3f}\".format(np.mean(test_losses)))\n",
    "\n",
    "# accuracy over all test data\n",
    "test_acc = num_correct/len(test_loader.dataset)\n",
    "print(\"Test accuracy: {:.3f}\".format(test_acc))"
   ]
  },
  {
   "cell_type": "code",
   "execution_count": 100,
   "metadata": {},
   "outputs": [
    {
     "name": "stdout",
     "output_type": "stream",
     "text": [
      "Training on GPU.\n"
     ]
    }
   ],
   "source": [
    "# First checking if GPU is available\n",
    "train_on_gpu=torch.cuda.is_available()\n",
    "\n",
    "if(train_on_gpu):\n",
    "    print('Training on GPU.')\n",
    "else:\n",
    "    print('No GPU available, training on CPU.')"
   ]
  },
  {
   "cell_type": "code",
   "execution_count": 101,
   "metadata": {},
   "outputs": [],
   "source": [
    "# Here we have loaded in a model that we saved before \n",
    "\n",
    "#structure of model is:\n",
    "#net = SentimentRNN(vocab_size, output_size, embedding_dim, hidden_dim, n_layers)\n",
    "\n",
    "import torch\n",
    "#device = torch.device(\"cuda\")\n",
    "with open('sentiment_analysis1.pt', 'rb') as f:\n",
    "    if(train_on_gpu):\n",
    "        checkpoint = torch.load(f) #,map_location=device)\n",
    "    else:\n",
    "        checkpoint = torch.load(f,map_location='cpu')\n",
    "        #torch.load(f,map_location='cpu')\n",
    "    \n",
    "loaded = SentimentRNN(vocab_size=checkpoint['vocab_size'],\n",
    "                      hidden_dim=checkpoint['hidden_dim'],\n",
    "                      n_layers=checkpoint['n_layers'],\n",
    "                      output_size=checkpoint['output_size'],\n",
    "                      embedding_dim=checkpoint['embedding_dim'])\n",
    "                      \n",
    "loaded.load_state_dict(checkpoint['state_dict'])\n",
    "\n",
    "if(train_on_gpu):\n",
    "    loaded.cuda()"
   ]
  },
  {
   "cell_type": "code",
   "execution_count": 102,
   "metadata": {},
   "outputs": [
    {
     "name": "stdout",
     "output_type": "stream",
     "text": [
      "34174891\n"
     ]
    }
   ],
   "source": [
    "######## FINDING THR TOTAL NUMBER OF PARAMETERS USED IN OUR MODEL\n",
    "\n",
    "pytorch_total_params = sum(p.numel() for p in loaded.parameters())\n",
    "print(pytorch_total_params)"
   ]
  },
  {
   "cell_type": "code",
   "execution_count": 103,
   "metadata": {},
   "outputs": [],
   "source": [
    "# loss and optimization functions\n",
    "lr=0.001\n",
    "\n",
    "criterion = nn.BCELoss()\n",
    "optimizer = torch.optim.Adam(loaded.parameters(), lr=lr)\n",
    "\n",
    "batch_size=50"
   ]
  },
  {
   "cell_type": "code",
   "execution_count": 104,
   "metadata": {},
   "outputs": [
    {
     "name": "stdout",
     "output_type": "stream",
     "text": [
      "Test loss: 0.418\n",
      "Test accuracy: 0.816\n"
     ]
    }
   ],
   "source": [
    "# Get test data loss and accuracy\n",
    "\n",
    "test_losses = [] # track loss\n",
    "num_correct = 0\n",
    "\n",
    "# init hidden state\n",
    "h = loaded.init_hidden(batch_size)\n",
    "\n",
    "loaded.eval()\n",
    "# iterate over test data\n",
    "for inputs, labels in test_loader:\n",
    "\n",
    "    # Creating new variables for the hidden state, otherwise\n",
    "    # we'd backprop through the entire training history\n",
    "    h = tuple([each.data for each in h])\n",
    "\n",
    "    if(train_on_gpu):\n",
    "        inputs, labels = inputs.cuda(), labels.cuda()\n",
    "    \n",
    "    # get predicted outputs\n",
    "    output, h = loaded(inputs, h)\n",
    "    \n",
    "    # calculate loss\n",
    "    test_loss = criterion(output.squeeze(), labels.float())\n",
    "    test_losses.append(test_loss.item())\n",
    "    \n",
    "    # convert output probabilities to predicted class (0 or 1)\n",
    "    pred = torch.round(output.squeeze())  # rounds to the nearest integer\n",
    "    \n",
    "    # compare predictions to true label\n",
    "    correct_tensor = pred.eq(labels.float().view_as(pred))\n",
    "    correct = np.squeeze(correct_tensor.numpy()) if not train_on_gpu else np.squeeze(correct_tensor.cpu().numpy())\n",
    "    num_correct += np.sum(correct)\n",
    "\n",
    "\n",
    "# -- stats! -- ##\n",
    "# avg test loss\n",
    "print(\"Test loss: {:.3f}\".format(np.mean(test_losses)))\n",
    "\n",
    "# accuracy over all test data\n",
    "test_acc = num_correct/len(test_loader.dataset)\n",
    "print(\"Test accuracy: {:.3f}\".format(test_acc))"
   ]
  },
  {
   "cell_type": "code",
   "execution_count": 37,
   "metadata": {},
   "outputs": [
    {
     "name": "stdout",
     "output_type": "stream",
     "text": [
      "tensor([ 0.,  0.,  0.,  0.,  1.,  1.,  1.])\n"
     ]
    }
   ],
   "source": [
    "a=torch.Tensor([0.4,0.4555,0.49,0.5,0.501,0.75,0.9])\n",
    "print(a.round())"
   ]
  },
  {
   "cell_type": "markdown",
   "metadata": {},
   "source": [
    "### Inference on a test review\n",
    "\n",
    "You can change this test_review to any text that you want. Read it and think: is it pos or neg? Then see if your model predicts correctly!\n",
    "    \n",
    "> **Exercise:** Write a `predict` function that takes in a trained net, a plain text_review, and a sequence length, and prints out a custom statement for a positive or negative review!\n",
    "* You can use any functions that you've already defined or define any helper functions you want to complete `predict`, but it should just take in a trained net, a text review, and a sequence length.\n"
   ]
  },
  {
   "cell_type": "code",
   "execution_count": 105,
   "metadata": {},
   "outputs": [],
   "source": [
    "############# PREPROCESSING THE DATA\n",
    "\n",
    "from string import punctuation\n",
    "\n",
    "def tokenize_review(test_review):\n",
    "    test_review = test_review.lower() # lowercase\n",
    "    # get rid of punctuation\n",
    "    test_text = ''.join([c for c in test_review if c not in punctuation])\n",
    "\n",
    "    # splitting by spaces\n",
    "    test_words = test_text.split()\n",
    "\n",
    "    # tokens\n",
    "    test_ints = []\n",
    "    test_ints.append([vocab_to_int[word] for word in test_words])\n",
    "\n",
    "    return test_ints"
   ]
  },
  {
   "cell_type": "code",
   "execution_count": 106,
   "metadata": {},
   "outputs": [],
   "source": [
    "def predict(net, test_review, sequence_length=200):\n",
    "    \n",
    "    ''' Prints out whether a give review is predicted to be \n",
    "        positive or negative in sentiment, using a trained model.\n",
    "        \n",
    "        params:\n",
    "        net - A trained net \n",
    "        test_review - a review made of normal text and punctuation\n",
    "        sequence_length - the padded length of a review\n",
    "    '''\n",
    "    \n",
    "    \n",
    "    # print custom response based on whether test_review is pos/neg\n",
    "    \n",
    "    net.eval()\n",
    "\n",
    "    # tokenize review\n",
    "    test_ints = tokenize_review(test_review)\n",
    "\n",
    "    # pad tokenized sequence\n",
    "    seq_length=sequence_length\n",
    "    features = pad_features(test_ints, seq_length)\n",
    "\n",
    "    # convert to tensor to pass into your model\n",
    "    feature_tensor = torch.from_numpy(features)\n",
    "\n",
    "    batch_size = feature_tensor.size(0)\n",
    "\n",
    "    # initialize hidden state\n",
    "    h = net.init_hidden(batch_size)\n",
    "\n",
    "    if(train_on_gpu):\n",
    "        feature_tensor = feature_tensor.cuda()\n",
    "\n",
    "    # get the output from the model\n",
    "    output, h = loaded(feature_tensor, h)\n",
    "\n",
    "    # convert output probabilities to predicted class (0 or 1)\n",
    "    predpercent=output.squeeze()\n",
    "    pred = torch.round(output.squeeze()) \n",
    "    # printing output value, before rounding\n",
    "    print('Prediction value, pre-rounding: {:.6f}'.format(output.item()))\n",
    "\n",
    "    # print custom response\n",
    "    if(pred.item()==1):\n",
    "        print(\"Positive review detected!\")\n",
    "    else:\n",
    "        print(\"Negative review detected.\")"
   ]
  },
  {
   "cell_type": "code",
   "execution_count": 122,
   "metadata": {},
   "outputs": [],
   "source": [
    "# positive test review\n",
    "test_review_pos = 'This movie had the best acting and the dialogue was so good. I loved it.'\n",
    "\n",
    "# negative test review\n",
    "test_review_neg = 'The worst movie I have seen; acting was terrible and I want my money back. This movie had bad acting and the dialogue was slow.'\n",
    "\n",
    "test_1=\"you are not good\"\n",
    "test_2=\"you are so not good\"\n",
    "test_3=\"what a waste of money\"\n",
    "test_4=\"you are good , you are not bad !\""
   ]
  },
  {
   "cell_type": "code",
   "execution_count": 123,
   "metadata": {},
   "outputs": [
    {
     "name": "stdout",
     "output_type": "stream",
     "text": [
      "Prediction value, pre-rounding: 0.008569\n",
      "Negative review detected.\n",
      "Prediction value, pre-rounding: 0.972061\n",
      "Positive review detected!\n",
      "Prediction value, pre-rounding: 0.476821\n",
      "Negative review detected.\n",
      "Prediction value, pre-rounding: 0.162593\n",
      "Negative review detected.\n",
      "Prediction value, pre-rounding: 0.016870\n",
      "Negative review detected.\n",
      "Prediction value, pre-rounding: 0.090581\n",
      "Negative review detected.\n"
     ]
    }
   ],
   "source": [
    "# call function\n",
    "# try negative and positive reviews!\n",
    "seq_length=200\n",
    "predict(loaded, test_review_neg, seq_length)\n",
    "predict(loaded, test_review_pos, seq_length)\n",
    "predict(loaded, test_1, seq_length)\n",
    "predict(loaded, test_2, seq_length)\n",
    "predict(loaded, test_3, seq_length)\n",
    "predict(loaded, test_4, seq_length)"
   ]
  },
  {
   "cell_type": "code",
   "execution_count": 130,
   "metadata": {},
   "outputs": [
    {
     "name": "stdout",
     "output_type": "stream",
     "text": [
      "Prediction value, pre-rounding: 0.108136\n",
      "Negative review detected.\n"
     ]
    }
   ],
   "source": [
    "####### INFERENCE SET BELOW\n",
    "test_rev=\"the movie sucks\"\n",
    "\n",
    "seq_length=200\n",
    "predict(loaded, test_rev, seq_length)\n",
    "\n"
   ]
  },
  {
   "cell_type": "markdown",
   "metadata": {},
   "source": [
    "### Try out test_reviews of your own!\n",
    "\n",
    "Now that you have a trained model and a predict function, you can pass in _any_ kind of text and this model will predict whether the text has a positive or negative sentiment. Push this model to its limits and try to find what words it associates with positive or negative.\n",
    "\n",
    "Later, you'll learn how to deploy a model like this to a production environment so that it can respond to any kind of user data put into a web app!"
   ]
  },
  {
   "cell_type": "code",
   "execution_count": null,
   "metadata": {},
   "outputs": [],
   "source": []
  },
  {
   "cell_type": "code",
   "execution_count": null,
   "metadata": {},
   "outputs": [],
   "source": []
  },
  {
   "cell_type": "code",
   "execution_count": null,
   "metadata": {},
   "outputs": [],
   "source": []
  },
  {
   "cell_type": "code",
   "execution_count": 72,
   "metadata": {},
   "outputs": [
    {
     "name": "stdout",
     "output_type": "stream",
     "text": [
      "tensor([10])  shape of it is :  torch.Size([1])\n",
      "tensor([[ 0.4618,  0.5285, -0.2405,  1.5443,  0.6933, -0.2768,  0.3256, -1.5862,\n",
      "          0.7767, -0.8190]], grad_fn=<EmbeddingBackward>)\n"
     ]
    }
   ],
   "source": [
    "import torch\n",
    "from torch import nn\n",
    "\n",
    "\n",
    "word_to_ix = {\"hello\": 10, \"world\": 12}\n",
    "\n",
    "embeds = nn.Embedding(13,10)  # 2 words in vocab, 5 dimensional embeddings\n",
    "\n",
    "lookup_tensor = torch.tensor([word_to_ix[\"hello\"]], dtype=torch.long)\n",
    "\n",
    "print(lookup_tensor,' shape of it is : ',lookup_tensor.shape)\n",
    "hello_embed = embeds(lookup_tensor)\n",
    "\n",
    "print(hello_embed)\n"
   ]
  },
  {
   "cell_type": "code",
   "execution_count": null,
   "metadata": {},
   "outputs": [],
   "source": [
    "import torch.nn as nn \n",
    "\n",
    "# vocab_size is the number of words in your train, val and test set\n",
    "# vector_size is the dimension of the word vectors you are using\n",
    "embed = nn.Embedding(vocab_size, vector_size)\n",
    "\n",
    "# intialize the word vectors, pretrained_weights is a \n",
    "# numpy array of size (vocab_size, vector_size) and \n",
    "# pretrained_weights[i] retrieves the word vector of\n",
    "# i-th word in the vocabulary\n",
    "embed.weight.data.copy_(torch.fromnumpy(pretrained_weights))\n",
    "\n",
    "# Then turn the word index into actual word vector\n",
    "vocab = {\"some\": 0, \"words\": 1}\n",
    "word_indexes = [vocab[w] for w in [\"some\", \"words\"]] \n",
    "word_vectors = embed(word_indexes)"
   ]
  }
 ],
 "metadata": {
  "kernelspec": {
   "display_name": "Python 3",
   "language": "python",
   "name": "python3"
  },
  "language_info": {
   "codemirror_mode": {
    "name": "ipython",
    "version": 3
   },
   "file_extension": ".py",
   "mimetype": "text/x-python",
   "name": "python",
   "nbconvert_exporter": "python",
   "pygments_lexer": "ipython3",
   "version": "3.7.4"
  }
 },
 "nbformat": 4,
 "nbformat_minor": 2
}
